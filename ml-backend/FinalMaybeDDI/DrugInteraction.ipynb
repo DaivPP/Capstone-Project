{
 "cells": [
  {
   "cell_type": "markdown",
   "id": "db25015b-8004-44ff-a07b-89ce47c01b83",
   "metadata": {},
   "source": [
    "Load the Data\n"
   ]
  },
  {
   "cell_type": "code",
   "execution_count": 1,
   "id": "cdf5ff5c-792b-4a7d-aa3e-26d6846ef476",
   "metadata": {},
   "outputs": [
    {
     "name": "stdout",
     "output_type": "stream",
     "text": [
      "                Drug 1       Drug 2  \\\n",
      "0           Trioxsalen  Verteporfin   \n",
      "1  Aminolevulinic acid  Verteporfin   \n",
      "2     Titanium dioxide  Verteporfin   \n",
      "3     Tiaprofenic acid  Verteporfin   \n",
      "4          Cyamemazine  Verteporfin   \n",
      "\n",
      "                             Interaction Description  \n",
      "0  Trioxsalen may increase the photosensitizing a...  \n",
      "1  Aminolevulinic acid may increase the photosens...  \n",
      "2  Titanium dioxide may increase the photosensiti...  \n",
      "3  Tiaprofenic acid may increase the photosensiti...  \n",
      "4  Cyamemazine may increase the photosensitizing ...  \n",
      "(191541, 3)\n"
     ]
    }
   ],
   "source": [
    "import pandas as pd\n",
    "\n",
    "file_path = r\"C:\\Users\\Daivansh\\Downloads\\db_drug_interactions.csv\\db_drug_interactions.csv\"\n",
    "interactions_df = pd.read_csv(file_path)\n",
    "\n",
    "\n",
    "print(interactions_df.head())\n",
    "print(interactions_df.shape)\n"
   ]
  },
  {
   "cell_type": "markdown",
   "id": "52b56bdc-bc5d-4c3f-9ef1-66fca4de3b6a",
   "metadata": {},
   "source": [
    "Normalize the Data"
   ]
  },
  {
   "cell_type": "code",
   "execution_count": 2,
   "id": "c8d3aa85-64ca-48e1-955c-32e801289f3b",
   "metadata": {},
   "outputs": [],
   "source": [
    "interactions_df['Drug 1'] = interactions_df['Drug 1'].str.lower().str.strip()\n",
    "interactions_df['Drug 2'] = interactions_df['Drug 2'].str.lower().str.strip()\n"
   ]
  },
  {
   "cell_type": "markdown",
   "id": "f8c32f6d-24e6-4d48-b759-dba8c2d5a9e5",
   "metadata": {},
   "source": [
    "Build a Dictionary to search the dataset more quickly "
   ]
  },
  {
   "cell_type": "code",
   "execution_count": 3,
   "id": "1101eb60-3644-41b8-a168-e09c001bee88",
   "metadata": {},
   "outputs": [],
   "source": [
    "# Dictionary: (drug1, drug2) → interaction\n",
    "interaction_dict = {}\n",
    "\n",
    "for _, row in interactions_df.iterrows():\n",
    "    d1, d2 = row['Drug 1'], row['Drug 2']\n",
    "    desc = row['Interaction Description']\n",
    "    # store both orders\n",
    "    interaction_dict[(d1, d2)] = desc\n",
    "    interaction_dict[(d2, d1)] = desc\n"
   ]
  },
  {
   "cell_type": "code",
   "execution_count": 5,
   "id": "d17e5f70-6dc9-4d54-8c6d-ab16c5047f79",
   "metadata": {},
   "outputs": [],
   "source": [
    "def check_interaction(drug_list, interaction_dict):\n",
    "    warnings = []\n",
    "    drug_list = [d.lower().strip() for d in drug_list]\n",
    "    for i in range(len(drug_list)):\n",
    "        for j in range(i+1, len(drug_list)):\n",
    "            d1, d2 = drug_list[i], drug_list[j]\n",
    "            if (d1, d2) in interaction_dict:\n",
    "                warnings.append(f\"⚠️ {drug_list[i]} + {drug_list[j]}: {interaction_dict[(d1, d2)]}\")\n",
    "    return warnings\n"
   ]
  },
  {
   "cell_type": "code",
   "execution_count": 6,
   "id": "6c01e387-4e73-4f06-ab66-0f40c23b07f9",
   "metadata": {},
   "outputs": [
    {
     "name": "stdout",
     "output_type": "stream",
     "text": [
      "['⚠️ trioxsalen + verteporfin: Trioxsalen may increase the photosensitizing activities of Verteporfin.']\n"
     ]
    }
   ],
   "source": [
    "sample_drugs = [\"Trioxsalen\", \"Verteporfin\", \"Aspirin\"]\n",
    "\n",
    "print(check_interaction(sample_drugs, interaction_dict))\n"
   ]
  },
  {
   "cell_type": "code",
   "execution_count": null,
   "id": "3ad1a2b8-8c28-4a01-83cb-75ea438afae4",
   "metadata": {},
   "outputs": [],
   "source": []
  }
 ],
 "metadata": {
  "kernelspec": {
   "display_name": "Python 3 (ipykernel)",
   "language": "python",
   "name": "python3"
  },
  "language_info": {
   "codemirror_mode": {
    "name": "ipython",
    "version": 3
   },
   "file_extension": ".py",
   "mimetype": "text/x-python",
   "name": "python",
   "nbconvert_exporter": "python",
   "pygments_lexer": "ipython3",
   "version": "3.12.6"
  }
 },
 "nbformat": 4,
 "nbformat_minor": 5
}
